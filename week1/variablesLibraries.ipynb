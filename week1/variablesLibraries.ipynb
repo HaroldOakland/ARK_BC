{
  "nbformat": 4,
  "nbformat_minor": 0,
  "metadata": {
    "colab": {
      "provenance": [],
      "collapsed_sections": [
        "UgSwSiyK1nW6",
        "x1QAim5I2I-g",
        "2D7hNTPb2MPy"
      ],
      "include_colab_link": true
    },
    "kernelspec": {
      "name": "python3",
      "display_name": "Python 3"
    },
    "language_info": {
      "name": "python"
    }
  },
  "cells": [
    {
      "cell_type": "markdown",
      "metadata": {
        "id": "view-in-github",
        "colab_type": "text"
      },
      "source": [
        "<a href=\"https://colab.research.google.com/github/HaroldOakland/ARK_BC/blob/main/week1/variablesLibraries.ipynb\" target=\"_parent\"><img src=\"https://colab.research.google.com/assets/colab-badge.svg\" alt=\"Open In Colab\"/></a>"
      ]
    },
    {
      "cell_type": "markdown",
      "source": [
        "# Variables"
      ],
      "metadata": {
        "id": "sRDbCDkX195H"
      }
    },
    {
      "cell_type": "markdown",
      "source": [
        "## Example Code"
      ],
      "metadata": {
        "id": "UgSwSiyK1nW6"
      }
    },
    {
      "cell_type": "code",
      "execution_count": null,
      "metadata": {
        "id": "DOF2qPUzf1o9"
      },
      "outputs": [],
      "source": [
        "# store 55 into a variable, we will use this later for a fundamental at 55 Hz\n",
        "fundamental = 55"
      ]
    },
    {
      "cell_type": "code",
      "source": [
        "# print the value of fundamental\n",
        "print(fundamental)"
      ],
      "metadata": {
        "colab": {
          "base_uri": "https://localhost:8080/"
        },
        "id": "DA-nvgnc1ZIU",
        "outputId": "bf1d7180-c7c3-4371-96f0-ca8baea24a95"
      },
      "execution_count": null,
      "outputs": [
        {
          "output_type": "stream",
          "name": "stdout",
          "text": [
            "55\n"
          ]
        }
      ]
    },
    {
      "cell_type": "code",
      "source": [
        "# calculate the value in hertz of the second partial (which is twice the fundamental)\n",
        "firstPartial = 55 * 2\n",
        "\n",
        "# print the value of the first partial\n",
        "print(firstPartial)"
      ],
      "metadata": {
        "colab": {
          "base_uri": "https://localhost:8080/"
        },
        "id": "hOqDPDxE1a48",
        "outputId": "6f61e250-6efd-4c34-c954-cf648dde6e6e"
      },
      "execution_count": null,
      "outputs": [
        {
          "output_type": "stream",
          "name": "stdout",
          "text": [
            "110\n"
          ]
        }
      ]
    },
    {
      "cell_type": "markdown",
      "source": [
        "# Libraries"
      ],
      "metadata": {
        "id": "UVPzEmTQ2FOb"
      }
    },
    {
      "cell_type": "markdown",
      "source": [
        "## Example Code"
      ],
      "metadata": {
        "id": "x1QAim5I2I-g"
      }
    },
    {
      "cell_type": "code",
      "source": [
        "# import the math library to have access to the log (logarithmic) function\n",
        "import math\n",
        "\n",
        "# cents divide an octave into 1200, 100 cents per semitone\n",
        "# this corresponds to the way we hear pitch better than hertz\n",
        "\n",
        "# math.log(3/2) - take the log of the frequency (hz) higher partial\n",
        "#       divided by the frequency (hz) of the lower partial\n",
        "# the rest of the equation is normalizing it so that it in relation to an octave\n",
        "# -  multiple by 1200 because there are 12 cents per octave\n",
        "# - divide by the log of 2  because the ratio of the octave is 2/1 (double)\n",
        "\n",
        "cents = math.log(165/110) * 1200 / math.log(2)\n",
        "print(cents)"
      ],
      "metadata": {
        "colab": {
          "base_uri": "https://localhost:8080/"
        },
        "id": "bzfqHhwG1d95",
        "outputId": "4c460e55-1a4f-4850-99a9-578ff1742903"
      },
      "execution_count": null,
      "outputs": [
        {
          "output_type": "stream",
          "name": "stdout",
          "text": [
            "701.9550008653874\n"
          ]
        }
      ]
    },
    {
      "cell_type": "markdown",
      "source": [
        "## Exercise\n",
        "### Calculate the difference in cents between the fundamental (55 Hz) and partials 1 through 5\n",
        "##### Uncomment and finish the lines of code below"
      ],
      "metadata": {
        "id": "2D7hNTPb2MPy"
      }
    },
    {
      "cell_type": "code",
      "source": [
        "# first calculate the values in hertz for all of the partials\n",
        "# fundamental and firstPartial are defined above\n",
        "secondPartial = 55 * 3\n",
        "#thirdPartial =\n",
        "#fourthPartial =\n",
        "#fifthPartial ="
      ],
      "metadata": {
        "id": "VS7-hgqz1w5B"
      },
      "execution_count": null,
      "outputs": []
    },
    {
      "cell_type": "code",
      "source": [
        "# then calculate the difference between each partial and the fundamental in each partial\n",
        "firstInterval = math.log(firstPartial/fundamental) * 1200 / math.log(2)\n",
        "# secondInterval =\n",
        "# thirdInterval =\n",
        "# fourthInterval =\n",
        "# fifthInterval ="
      ],
      "metadata": {
        "id": "897lELxRSqgf"
      },
      "execution_count": null,
      "outputs": []
    },
    {
      "cell_type": "code",
      "source": [
        "import math\n",
        "fundamental = 55\n",
        "\n",
        "firstPartial = 55 * 2\n",
        "print(firstPartial)\n",
        "secondPartial = 55 * 3\n",
        "print(secondPartial)\n",
        "thirdPartial = 55 * 4\n",
        "print(thirdPartial)\n",
        "fourthPartial = 55 * 5\n",
        "print(fourthPartial)\n",
        "fifthPartial = 55 * 6\n",
        "print(fifthPartial)\n"
      ],
      "metadata": {
        "id": "XP0mZxJoGgS_",
        "outputId": "405b2bc3-1bbf-4c59-8a40-d900165ac5f8",
        "colab": {
          "base_uri": "https://localhost:8080/"
        }
      },
      "execution_count": 4,
      "outputs": [
        {
          "output_type": "stream",
          "name": "stdout",
          "text": [
            "110\n",
            "165\n",
            "220\n",
            "275\n",
            "330\n"
          ]
        }
      ]
    },
    {
      "cell_type": "code",
      "source": [
        "firstInterval = math.log(firstPartial/fundamental) * 1200 / math.log(2)\n",
        "print(firstInterval)\n",
        "secondInterval = math.log(secondPartial/fundamental) * 1200 / math.log(2)\n",
        "print(secondInterval)\n",
        "thirdInterval = math.log(thirdPartial/fundamental) * 1200 / math.log(2)\n",
        "print(thirdInterval)\n",
        "fourthInterval = math.log(fourthPartial/fundamental) * 1200 / math.log(2)\n",
        "print(fourthInterval)\n",
        "fifthInterval = math.log(fifthPartial/fundamental) * 1200 / math.log(2)\n",
        "print(fifthInterval)"
      ],
      "metadata": {
        "id": "PZaPynGVH7VA",
        "outputId": "32ea1658-a328-44d8-ce29-b3936775764d",
        "colab": {
          "base_uri": "https://localhost:8080/"
        }
      },
      "execution_count": 5,
      "outputs": [
        {
          "output_type": "stream",
          "name": "stdout",
          "text": [
            "1200.0\n",
            "1901.9550008653878\n",
            "2400.0\n",
            "2786.313713864835\n",
            "3101.9550008653873\n"
          ]
        }
      ]
    }
  ]
}